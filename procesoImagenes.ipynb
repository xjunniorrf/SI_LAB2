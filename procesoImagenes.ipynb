{
 "cells": [
  {
   "cell_type": "markdown",
   "id": "639df89f",
   "metadata": {},
   "source": [
    "#    Paso 1:\n",
    "* Importar las librerias numpy y cv2\n"
   ]
  },
  {
   "cell_type": "code",
   "execution_count": 34,
   "id": "41468b57",
   "metadata": {},
   "outputs": [],
   "source": [
    "import numpy as np\n",
    "import cv2"
   ]
  },
  {
   "cell_type": "markdown",
   "id": "2fb1d704",
   "metadata": {},
   "source": [
    "# Paso 2:\n",
    "* Escribimos el codigo, que permita poder mostrar a traves de una ventana una imagen guardada localmente.\n",
    "* En este caso comenzamos creando una variable llamado \"img\", en donde va estar la imagen que queremos cargar, primero vamos utilizar la libreria de OpenCV y agregar la ruta donde esta ubicada la imagen. "
   ]
  },
  {
   "cell_type": "code",
   "execution_count": null,
   "id": "4186e0dd",
   "metadata": {},
   "outputs": [],
   "source": [
    "img = cv2.imread('E:/UCV_7 CICLO/SISTEMAS INTELIGENTES/SEMANA 2/SI_LAB2/ImagenPNG.png') #Es necesario cambiar la ruta depende al directorio donde esta ubicado el archivo"
   ]
  },
  {
   "cell_type": "markdown",
   "id": "1479b938",
   "metadata": {},
   "source": [
    "# Paso 3:\n",
    "* Ahora creamos una variable llamado pixeles, que va contener valores de cuanto pixeles queremos que se cargue la imagen,\n",
    "en este caso pusimos 400 x 400 px\n",
    "* Luego creamos la variable tamañoImagen, que va servir para redimensionar el tamaño de la imagen sin perder la calidad, y utilizamos la libreria openCV, en este caso cv2.resize para la redimensión y el método interpolation=cv2.INTER_AREA, que sirve para la reducción sin afectar la calidad."
   ]
  },
  {
   "cell_type": "code",
   "execution_count": 36,
   "id": "132ed031",
   "metadata": {},
   "outputs": [],
   "source": [
    "pixeles = (400, 400)\n",
    "tamañoImagen = cv2.resize(img,pixeles, interpolation=cv2.INTER_AREA)"
   ]
  },
  {
   "cell_type": "markdown",
   "id": "d068c5cb",
   "metadata": {},
   "source": [
    "# Paso 4:\n",
    "* Agregamos los metodos finales de openCV que sirven para dar salida a la imagen, comenzando primero con la carga, y la ventana en donde se va mostrar y al final con el cierre que seria la destruccion de la ventana mostrando la imagen que se abrio."
   ]
  },
  {
   "cell_type": "code",
   "execution_count": null,
   "id": "c68cf7d2",
   "metadata": {},
   "outputs": [],
   "source": [
    "cv2.imshow('imagen', tamañoImagen) #cargar la imagen\n",
    "cv2.waitKey(0) # waitKey(0) sirve para abrir una imagen y esperar a que el usuario presione una tecla para cerrarla\n",
    "cv2.destroyAllWindows() #Para destruir todas las ventanas abiertas por OpenCV"
   ]
  }
 ],
 "metadata": {
  "kernelspec": {
   "display_name": "Python 3",
   "language": "python",
   "name": "python3"
  },
  "language_info": {
   "codemirror_mode": {
    "name": "ipython",
    "version": 3
   },
   "file_extension": ".py",
   "mimetype": "text/x-python",
   "name": "python",
   "nbconvert_exporter": "python",
   "pygments_lexer": "ipython3",
   "version": "3.13.3"
  }
 },
 "nbformat": 4,
 "nbformat_minor": 5
}
